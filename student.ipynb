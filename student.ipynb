{
 "cells": [
  {
   "cell_type": "code",
   "execution_count": null,
   "metadata": {},
   "outputs": [],
   "source": [
    "import json\n",
    "import IPython\n",
    "from tree import *\n",
    "from load_blosum import load_blosum\n",
    "f = open(\"organisms.json\", \"r\")\n",
    "ORGANISMS = json.load(f)\n",
    "f.close()\n",
    "BLOSUM50_SCORES = load_blosum(\"blosum50.bla\")\n",
    "BLOSUM62_SCORES = load_blosum(\"blosum62.bla\")\n"
   ]
  },
  {
   "cell_type": "markdown",
   "metadata": {},
   "source": [
    "# Reading Blosum Tables\n",
    "\n",
    "Now that we have an alphabet for DNA strings and an algorithm to compare them, we can define meaningful costs for matchings and substitutions of amino acids. We will be using tables obtained from an experimental, data-driven technique that constructs a \"Blocks Substitution Matrix,\" or \"BLOSUM\" for short, as described in [this paper](http://146.6.100.192/users/BCH339N_2018/BLOSUM62Miscalculations.pdf). In a nutshell, the technique computes statistical likelihoods that substitutions take place by examining many well-aligned sequences.\n",
    "\n",
    "There are different similarity thresholds at which BLOSUM tables can be constructed, and higher numbers mean that we're more conservative in which symbols we allow to be aligned. In assignment 5, we'll be considering BLOSUM50 and BLOSUM62, as obtained from [this link](https://ftp.ncbi.nih.gov/repository/blocks/unix/blosum/blosum.tar.Z). Click the \"show/hide\" buttons to view each of these below. You'll notice that we get a positive score when matching an amino acid to itself, and a negative score when swapping amino acids and when deleting them (matching to a *), so this is compatible with Needleman-Wunsch. You'll also notice that this matrix is symmetric (e.g. A to D and D to A are both -2), so we will only be storing the non-redundant parts in a lookup dictionary. "
   ]
  },
  {
   "cell_type": "code",
   "execution_count": null,
   "metadata": {},
   "outputs": [],
   "source": [
    "\n",
    "    "
   ]
  },
  {
   "cell_type": "markdown",
   "metadata": {},
   "source": [
    "## Needleman-Wunsch Algorithm Background\n",
    "Since DNA is a string, we can compare two DNA sequences with string comparison methods, but when comparing the sequences across organisms, the technique needs to account for mutations that have occurred over evolutionary histories, including additions, deletions, and substitutions of individual amino acids. We've discussed dynamic programing techniques for computing the string edit distance, which accounts for such mutations. However, it models a unit cost for an addition, deletion, and substitution alike, and there are biological reasons that we may want to have costs that are more less expensive for certain amino acid edits, as explained below.\n",
    "\n",
    "To address the need for variable costs, there is a variant of edit distance known as Needleman-Wunsch, in which the costs can change depending on what characters are involved. By convention, we actually switch from a \"minimizing cost\" mindset to a maximizing score mindset. Given a string of length M and a string of length N, the optimal Needleman-Wunsch score can be computed in O(MN) time using a similar dynamic programming algorithm to edit distance. In particular, to match a string of length M to a string of length N, the vanilla version proceeds by filling in an (M+1) x (N+1) table S storing all solutions to sub-problems, using the following recurrence relation, where di and dj refer to the cost of deleting the ith and jth characters of the first and second strings, respectively, and cij refers to the cost of substituting the ith character of the first string for the jth character of the second string (and everything is 0-indexed):\n",
    "\n",
    "![equation](imgs/NeedWunchEqnSmall.png)\n",
    "## VERY IMPORTANT - **READ THIS**\n",
    "The equation has a number of variables in it:\n",
    "- _i_ and _j_ correspond directly to `i` and `j` in the code below\n",
    "- _S_ is represented by the 2d list `similarity`, and is the list of all similarity scores. To access it, simply do so as a 2d list, using the comma separated values.\n",
    "- _c_ and _d_ are represented within `blosum_scores`\n",
    "- To access _d_, the key is simply the character you are looking to find the deletion score for. ie. if you're looking for the cost of deleting `'X'` you would simply do `blosum_scores['X']`.\n",
    "    - If a term in the equation asks for _d_<sub>_i_-1</sub> or _d_<sub>_j_-1</sub>, you should use the _i_-1th or _j_-1th term of `species1` and `species2` respectively as the key \n",
    "- To access _c_, the key is the concatenation of the two characters you are looking to find the score for exchanging. ie. if you're looking for the cost of exchanging `'X'` for `'Y'` you would do either `blosum_scores['YX']` or `blosum_scores['XY']`.\n",
    "    - find the characters the same way as for _d_, but get both characters and concatenate\n",
    "\n",
    "Using these strategies, you can write the three branches of the conditional seen in the equation above. Once written it will fill in each value in the 2d array by taking into account the values above and to the left of it.\n",
    "\n",
    "To get the final Needleman-Wunsch score, you then get the value in the bottom right corner.\n"
   ]
  },
  {
   "cell_type": "code",
   "execution_count": null,
   "metadata": {},
   "outputs": [],
   "source": [
    "def needleman_wunsch(species1, species2, blosum_scores):\n",
    "    \"\"\"Returns the needleman wunch scores of the two strings using the provided swapping scores\"\"\"\n",
    "    similarity = [[None for i in range(len(species1)+1)] for i in range(len(species2)+1)]\n",
    "    for i in range(len(similarity)):\n",
    "        for j in range(len(similarity[i])):\n",
    "            if i == j and j == 0:\n",
    "                # This is just default behavior\n",
    "                similarity[i][j] = 0\n",
    "            elif : # Look at the conditions on the right of the equation\n",
    "                similarity[i][j] = \n",
    "            elif :\n",
    "                similarity[i][j] = \n",
    "            else:\n",
    "                # Remember you can use the max() function to find the maximum value among its parameteres\n",
    "                similarity[i][j] = \n",
    "    \n",
    "    # CHECKING IF ALL VALUES WERE REPLACED\n",
    "    for i in similarity:\n",
    "        if None in i:\n",
    "            raise Exception(\"Similarity matrix is not fully filled out\")\n",
    "    \n",
    "\n",
    "    score  = \n",
    "\n",
    "    return score\n",
    "\n",
    "if needleman_wunsch(ORGANISMS[\"Dog\"], ORGANISMS[\"Hyaena\"], BLOSUM62_SCORES) != 1375:\n",
    "    raise Exception(f\"Dog-Hyaena similarity should be 1375, is {needleman_wunsch(ORGANISMS[\"Dog\"], ORGANISMS[\"Hyaena\"], BLOSUM62_SCORES)}\")\n",
    "elif needleman_wunsch(ORGANISMS[\"Domestic Cat\"], ORGANISMS[\"Cougar\"], BLOSUM62_SCORES) != 1427:\n",
    "    raise Exception(f\"Cat-Cougar similarity should be 1427, is {needleman_wunsch(ORGANISMS[\"Domestic Cat\"], ORGANISMS[\"Cougar\"], BLOSUM62_SCORES)}\")\n",
    "else:\n",
    "    print(\"Dog-Hyaena similarity is \"+str(needleman_wunsch(ORGANISMS[\"Dog\"], ORGANISMS[\"Hyaena\"], BLOSUM62_SCORES)))\n",
    "    print(\"Cat-Cougar similarity is \"+str(needleman_wunsch(ORGANISMS[\"Domestic Cat\"], ORGANISMS[\"Cougar\"], BLOSUM62_SCORES)))"
   ]
  },
  {
   "cell_type": "markdown",
   "metadata": {},
   "source": [
    "The first `if` statement has two cases: one that runs only if `data.json` is blank, and one that runs if it has any text in it.\n",
    "\n",
    "You do not need to change the second case. Inside the first case, you need to iterate through eah similarity pair, skipping those that are comparing an animal to itself (Hint: use `continue` in an `if` statement inside your `for` loops).\n",
    "\n",
    "Then add to data at the keys [animal1][animal2] the needleman-wunsch BLOSUM 62 scores.\n",
    "\n",
    "Look over your data once it's finished running (this may take 10+ minutes, plan accordingly), it'll be dumped into `data.json`.\n"
   ]
  },
  {
   "cell_type": "code",
   "execution_count": null,
   "metadata": {},
   "outputs": [],
   "source": [
    "f = open('data.json', \"r+\") \n",
    "str(f)\n",
    "data = {}\n",
    "if f.read(1) == \"\": # If you want to rerun this part of code, manually clear the data.json file\n",
    "    f.seek(0) # this resets the r/w header to the file beginning\n",
    "    for i in ORGANISMS:\n",
    "        data[i] = {}\n",
    "    for i in ORGANISMS:\n",
    "        for j in ORGANISMS:\n",
    "            try:\n",
    "                data[i][j] = needleman_wunsch(ORGANISMS[i], ORGANISMS[j], BLOSUM62_SCORES)\n",
    "            except:\n",
    "                print(i,j,data)\n",
    "\n",
    "    f.write(json.dumps(data)) # dumps data into the file\n",
    "else: \n",
    "    f.seek(0)\n",
    "    data = json.loads(f.read())\n",
    "f.close()"
   ]
  },
  {
   "cell_type": "markdown",
   "metadata": {},
   "source": [
    "First, look at your data file. Notice that it's of the form \n",
    "```json\n",
    "{\n",
    "    species1: {otherspecies1:similarity,...,otherspecies70:similarity},\n",
    "    ...,\n",
    "    species71: {otherspecies1:similarity,...,otherspecies70:similarity}\n",
    "}\n",
    "```\n",
    "which translates cleanly to a dictionary of dictionaries.\n",
    "\n",
    "Create a list of all pairs of the form `[((species, species), similarity),...]` with no duplicates by iterating through the 2D dictionary you just created\n",
    "<details>\n",
    "<summary><strong>Click here for a hint!</strong></summary>\n",
    "Try nested for loops, with the inner loop changing its range based on the outer one (you'll need a list of animals)\n",
    "<details>\n",
    "<summary>Click here for another hint!</summary>\n",
    "<pre>\n",
    "<code>\n",
    "for i in range(len(animals)):\n",
    "    for j in range(len(i)):\n",
    "        # Do stuff\n",
    "\n",
    "</code>\n",
    "</pre>\n",
    "</details>\n",
    "</details>"
   ]
  },
  {
   "cell_type": "code",
   "execution_count": null,
   "metadata": {},
   "outputs": [],
   "source": [
    "# The type after the colon is an annotation telling you what type it's intended to be!\n",
    "pairs:list[tuple[tuple[str,str],float]] = \n",
    "animals:list = \n",
    "\n",
    "# CODE GOES HERE\n",
    "\n",
    "pairs.sort(key=lambda x : x[1]) # This sorts by the second value in each item in pairs\n",
    "# Write what part it's sorting by:\n",
    "pairs.reverse()\n",
    "animal = {i:Node(None, None,i,None) for i in animals} # This makes a node for each animal and keys it the animal's name\n"
   ]
  },
  {
   "cell_type": "markdown",
   "metadata": {},
   "source": [
    "Fill in `leftanimal` and `rightanimal` inside `cluster` to access the left and right animals with each pair as you iterate."
   ]
  },
  {
   "cell_type": "code",
   "execution_count": null,
   "metadata": {},
   "outputs": [],
   "source": [
    "for i in pairs:\n",
    "    Node.cluster(leftanimal, rightanimal)\n",
    "n = animals[\"African bush elephant\"]\n",
    "while n.parent:\n",
    "    n = n.parent\n",
    "if len(n.all_leaves()) != len('Western honeybee|Russels viper|American alligator|African bush elephant|Guinea pig|Brown rat|House mouse|Malayan porcupine|Virginia opossum|Eastern gray kangaroo|Wallaby|Chipmunk|Fox squirrel|Wild boar|Horse|Asian black bear|American black bear|Polar bear|Giant panda|White-tailed deer|Reindeer|Northern giraffe|Domestic Yak|Cattle|Indian rhinoceros|White rhinoceros|Dog|Dingo|Indian wolf|Red fox|Hyaena|Domestic Cat|Cougar|Tiger|Ocelot|Cheetah|Eastern wolf|Dolphin|American beaver|Platypus|Koala|Orangutan|Human|Neanderthal|Chimpanzee|Bonobo|Gorilla|Gray treefrog|Edible frog|Goldfish|Fugu rubripes|Fire salamander|Eastern newt|Great white shark|Alpine newt|Chinese giant salamander|Eurasian golden oriole|Cardinal|American robin|Bald Eagle|Mourning dove|Eurasian eagle-owl|Chameleon|Bearded Dragon|Monarch butterfly|Common clothes moth|Housefly|Termite|Asian lady beetle|Black garden ant|Spotted Lanternfly'.split(\"|\")):\n",
    "    raise Exception(\"Not all nodes connected\")\n",
    "elif \"|\".join(n.all_leaves()) != 'Western honeybee|Russels viper|American alligator|African bush elephant|Guinea pig|Brown rat|House mouse|Malayan porcupine|Virginia opossum|Eastern gray kangaroo|Wallaby|Chipmunk|Fox squirrel|Wild boar|Horse|Asian black bear|American black bear|Polar bear|Giant panda|White-tailed deer|Reindeer|Northern giraffe|Domestic Yak|Cattle|Indian rhinoceros|White rhinoceros|Dog|Dingo|Indian wolf|Red fox|Hyaena|Domestic Cat|Cougar|Tiger|Ocelot|Cheetah|Eastern wolf|Dolphin|American beaver|Platypus|Koala|Orangutan|Human|Neanderthal|Chimpanzee|Bonobo|Gorilla|Gray treefrog|Edible frog|Goldfish|Fugu rubripes|Fire salamander|Eastern newt|Great white shark|Alpine newt|Chinese giant salamander|Eurasian golden oriole|Cardinal|American robin|Bald Eagle|Mourning dove|Eurasian eagle-owl|Chameleon|Bearded Dragon|Monarch butterfly|Common clothes moth|Housefly|Termite|Asian lady beetle|Black garden ant|Spotted Lanternfly':\n",
    "    raise Exception(f\"Clustering is in wrong order\")"
   ]
  },
  {
   "cell_type": "markdown",
   "metadata": {},
   "source": [
    "This is a simple navigation system, you can use 'up', 'left', and 'right' \n",
    "to navigate through the map. Hit enter to move on."
   ]
  },
  {
   "cell_type": "code",
   "execution_count": null,
   "metadata": {},
   "outputs": [],
   "source": [
    "\n",
    "n = animals[\"African bush elephant\"]\n",
    "while n.parent:\n",
    "    n = n.parent\n",
    "print(\"\"\"This is a simple navigation system, you can use 'up', 'left', and 'right' \n",
    "to navigate through the map. Hit enter to move on.\"\"\")\n",
    "i = \"BLANK\"\n",
    "while i != \"\":\n",
    "    print(n.animal, n.score)\n",
    "    i = input()\n",
    "    if i.lower() == \"up\" and n.parent:\n",
    "        n = n.parent\n",
    "    if i.lower() == \"left\" and n.left:\n",
    "        n = n.left\n",
    "    if i.lower() == \"right\" and n.right:\n",
    "        n = n.right\n",
    "while n.parent:\n",
    "    n = n.parent\n",
    "animals_leaves_list = n.all_leaves()\n",
    "animals_leaves_list"
   ]
  },
  {
   "cell_type": "markdown",
   "metadata": {},
   "source": [
    "You may need to run the following in yourr terminal if the next code block doesn't work:\n",
    "- `pip install matplotlib`\n",
    "- `pip install numpy`\n",
    "\n",
    "If those error try:\n",
    "- `pip3 install matplotlib`\n",
    "- `pip3 install numpy`\n",
    "\n",
    "\n",
    "### TREE OF LIFE\n",
    "This generates the tree of life graphic based on your data.\n",
    "\n",
    "Answer the questions inside the code."
   ]
  },
  {
   "cell_type": "code",
   "execution_count": null,
   "metadata": {},
   "outputs": [],
   "source": [
    "\n",
    "import matplotlib\n",
    "import matplotlib.pyplot\n",
    "import numpy as np\n",
    "\n",
    "matplotlib.pyplot.figure(figsize = (10,18))\n",
    "matplotlib.pyplot.xlim(800,1700)\n",
    "sp = matplotlib.pyplot.subplot()\n",
    "# This creates a 10 by 18 space for the graph to be placed, and limits the x axis to cover 800 through 1700 \n",
    "### Based on the order of magnitude, what do you think the x-axis is?: \n",
    "# \n",
    "# \n",
    "# \n",
    "\n",
    "n.inorder(True)\n",
    "# This runs an inorder traversal on the tree and assigns each node its order within the tree\n",
    "\n",
    "dlist = n.points(animals_leaves_list, int(pairs[0][1])+10)\n",
    "# This finds the points for the tree by recursively traversing the tree and collecting their similarity scores \n",
    "# and inorder traversal order (x and y respectively)\n",
    "\n",
    "x = [i[0] for i in dlist]\n",
    "y = [i[1] for i in dlist]\n",
    "# Separates out the x and y\n",
    "\n",
    "sp.scatter([int(pairs[0][1])+10 for i in n.all_leaves()],[2*n.all_leaves().index(i) for i in n.all_leaves()]) \n",
    "# places all the leaf nodes (the animals)\n",
    "for i in range(len(n.all_leaves())):\n",
    "    sp.text(pairs[0][1]+18,i*2-0.2,n.all_leaves()[i])\n",
    "# labels all the animals\n",
    "\n",
    "sp.scatter(x,y)\n",
    "# \n",
    "l = n.draw_lines()\n",
    "#lists all the connections\n",
    "x = l[0]\n",
    "y = l[1]\n",
    "\n",
    "#What do the above lines do?:\n",
    "# \n",
    "# \n",
    "#\n",
    " \n",
    "lines = []\n",
    "#\n",
    "for i in range(len(x)):\n",
    "    lines.append([(x[i][j],y[i][j]) for j in range(len(x[j]))])\n",
    "for i in range(len(lines)):\n",
    "    sp.plot(np.linspace(lines[i][0][0],lines[i][1][0]),np.linspace(lines[i][0][1],lines[i][1][1]))\n",
    "### MAKE AN EDUCATED GUESS: What do you think linspace might do? Try printing out values\n",
    "### within the code to figure it out. No Googling!\n",
    "# \n",
    "# \n",
    "# \n",
    "## HINT: Plot draws a line that follows a sequence of x and y values\n",
    "## https://matplotlib.org/stable/api/_as_gen/matplotlib.pyplot.plot.html\n"
   ]
  }
 ],
 "metadata": {
  "kernelspec": {
   "display_name": "base",
   "language": "python",
   "name": "python3"
  },
  "language_info": {
   "codemirror_mode": {
    "name": "ipython",
    "version": 3
   },
   "file_extension": ".py",
   "mimetype": "text/x-python",
   "name": "python",
   "nbconvert_exporter": "python",
   "pygments_lexer": "ipython3",
   "version": "3.12.4"
  }
 },
 "nbformat": 4,
 "nbformat_minor": 2
}
